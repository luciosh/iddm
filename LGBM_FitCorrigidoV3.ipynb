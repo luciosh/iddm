{
 "cells": [
  {
   "cell_type": "code",
   "execution_count": 1,
   "metadata": {
    "colab": {
     "base_uri": "https://localhost:8080/"
    },
    "executionInfo": {
     "elapsed": 1768,
     "status": "ok",
     "timestamp": 1637852498118,
     "user": {
      "displayName": "",
      "photoUrl": "",
      "userId": ""
     },
     "user_tz": 240
    },
    "id": "Jf9q4Xuj9NSZ",
    "outputId": "75752eba-a804-44e5-83db-4d7b4c04445d"
   },
   "outputs": [
    {
     "name": "stdout",
     "output_type": "stream",
     "text": [
      "download start!\n",
      "download complete!\n",
      "download file location:  data.zip\n"
     ]
    }
   ],
   "source": [
    "import urllib.request\n",
    "url = \"https://github.com/srg-lc/iddm/blob/main/data.zip?raw=true\"\n",
    "print (\"download start!\")\n",
    "filename, headers = urllib.request.urlretrieve(url, filename=\"data.zip\")\n",
    "print (\"download complete!\")\n",
    "print (\"download file location: \", filename)"
   ]
  },
  {
   "cell_type": "code",
   "execution_count": 2,
   "metadata": {
    "id": "70IqLPYTYbTP"
   },
   "outputs": [],
   "source": [
    "import numpy as np\n",
    "import pandas as pd\n",
    "import lightgbm as lgb \n",
    "from sklearn.preprocessing import LabelEncoder\n",
    "from sklearn.preprocessing import OneHotEncoder\n",
    "from sklearn.model_selection import train_test_split\n",
    "from sklearn.compose import ColumnTransformer\n",
    "from sklearn import preprocessing\n",
    "from sklearn import metrics\n",
    "\n",
    "import warnings\n",
    "warnings.filterwarnings('ignore')\n",
    "\n"
   ]
  },
  {
   "cell_type": "code",
   "execution_count": 3,
   "metadata": {
    "colab": {
     "base_uri": "https://localhost:8080/"
    },
    "executionInfo": {
     "elapsed": 8048,
     "status": "ok",
     "timestamp": 1637852506158,
     "user": {
      "displayName": "",
      "photoUrl": "",
      "userId": ""
     },
     "user_tz": 240
    },
    "id": "7O1FVkHUYjmY",
    "outputId": "a71be137-980a-48e4-f2fb-449b7b1f3da5"
   },
   "outputs": [
    {
     "name": "stdout",
     "output_type": "stream",
     "text": [
      "Iniciando...\n",
      "Carregando dataset...\n"
     ]
    }
   ],
   "source": [
    "print(\"Iniciando...\")\n",
    "print(\"Carregando dataset...\")\n",
    "dataset = pd.read_csv('data.zip', low_memory=False)\n",
    "\n",
    "\n"
   ]
  },
  {
   "cell_type": "code",
   "execution_count": 4,
   "metadata": {
    "colab": {
     "base_uri": "https://localhost:8080/"
    },
    "executionInfo": {
     "elapsed": 605,
     "status": "ok",
     "timestamp": 1637852506750,
     "user": {
      "displayName": "",
      "photoUrl": "",
      "userId": ""
     },
     "user_tz": 240
    },
    "id": "FrKgznuYspVM",
    "outputId": "df808bae-12b8-43e4-e9e1-26fd5a41621b"
   },
   "outputs": [
    {
     "data": {
      "text/plain": [
       "array(['webcam.Samsung.SNH-1011N', 'laptop.Dell.Latitude_7400',\n",
       "       'light_bulb.TP_Link.LB130', 'laptop.Dell.Latitude_E6430',\n",
       "       'speaker.Sonos.One', 'doorbell.Amazon.Ring',\n",
       "       'access_point.TP_Link.TL-WA901ND', 'webcam.Amcrest.IPM-721W',\n",
       "       'smartphone.Samsung.Galaxy_Note_5', 'socket.Wemo.Insight',\n",
       "       'smartphone.Samsung.Galaxy_Note_4',\n",
       "       'streamer.Amazon.Fire_TV_Stick'], dtype=object)"
      ]
     },
     "execution_count": 4,
     "metadata": {},
     "output_type": "execute_result"
    }
   ],
   "source": [
    "dataset['device_model'].unique()"
   ]
  },
  {
   "cell_type": "code",
   "execution_count": 5,
   "metadata": {
    "colab": {
     "base_uri": "https://localhost:8080/"
    },
    "executionInfo": {
     "elapsed": 332,
     "status": "ok",
     "timestamp": 1637852507079,
     "user": {
      "displayName": "",
      "photoUrl": "",
      "userId": ""
     },
     "user_tz": 240
    },
    "id": "f1i5UM09d_qO",
    "outputId": "0b41fcba-7802-4b5c-e003-e693fb51b738"
   },
   "outputs": [],
   "source": [
    "#Filtrando Treino e predicao\n",
    "data_training = dataset[dataset['partition'] == \"training\"]\n",
    "dataset_t = data_training.copy()\n",
    "data_training['partition'].unique()\n",
    "data_predict = dataset[dataset['partition'] == \"test\"]\n",
    "data_predict['partition'].unique()\n",
    "dataset_p = data_predict.copy()\n"
   ]
  },
  {
   "cell_type": "markdown",
   "metadata": {
    "id": "Xl5Pak1ilc6X"
   },
   "source": [
    "Fit e Transform devem ser aplicados apenas ao dataset de treino, no dataset de previsão, devo aplicar apenas o transform. Logo, fit e transform devem ser aplicados depois da separação de dados de treino e teste. "
   ]
  },
  {
   "cell_type": "code",
   "execution_count": 6,
   "metadata": {
    "colab": {
     "base_uri": "https://localhost:8080/"
    },
    "executionInfo": {
     "elapsed": 1350,
     "status": "ok",
     "timestamp": 1637852508427,
     "user": {
      "displayName": "",
      "photoUrl": "",
      "userId": ""
     },
     "user_tz": 240
    },
    "id": "qHRG8PB5vMWS",
    "outputId": "498de922-a15d-41c2-85f6-e1bbd3358732"
   },
   "outputs": [],
   "source": [
    "from sklearn.preprocessing import LabelEncoder\n",
    "number1 = LabelEncoder()\n",
    "number = number1.fit(dataset['IPV4_DST_ADDR'])\n",
    "data_training['IPV4_DST_ADDR'] = number.transform(data_training['IPV4_DST_ADDR'])\n",
    "data_predict['IPV4_DST_ADDR'] = number1.transform(data_predict['IPV4_DST_ADDR'])\n",
    "number = number.fit(dataset['device_model'])\n",
    "data_training['device_model'] = number.transform(data_training['device_model'])\n",
    "data_predict['device_model'] = number1.transform(data_predict['device_model'])\n",
    "number = number.fit(dataset['IP'])\n",
    "data_training['IP'] = number.transform(data_training['IP'])\n",
    "data_predict['IP'] = number1.transform(data_predict['IP'])"
   ]
  },
  {
   "cell_type": "code",
   "execution_count": 7,
   "metadata": {
    "colab": {
     "base_uri": "https://localhost:8080/",
     "height": 313
    },
    "executionInfo": {
     "elapsed": 595,
     "status": "ok",
     "timestamp": 1637852509021,
     "user": {
      "displayName": "",
      "photoUrl": "",
      "userId": ""
     },
     "user_tz": 240
    },
    "id": "YY0_JduKncOG",
    "outputId": "2f0444d0-2acf-4d30-d582-ee01fadf9f53"
   },
   "outputs": [
    {
     "data": {
      "text/html": [
       "<div>\n",
       "<style scoped>\n",
       "    .dataframe tbody tr th:only-of-type {\n",
       "        vertical-align: middle;\n",
       "    }\n",
       "\n",
       "    .dataframe tbody tr th {\n",
       "        vertical-align: top;\n",
       "    }\n",
       "\n",
       "    .dataframe thead th {\n",
       "        text-align: right;\n",
       "    }\n",
       "</style>\n",
       "<table border=\"1\" class=\"dataframe\">\n",
       "  <thead>\n",
       "    <tr style=\"text-align: right;\">\n",
       "      <th></th>\n",
       "      <th>FIRST_SWITCHED</th>\n",
       "      <th>IN_BYTES</th>\n",
       "      <th>IN_PKTS</th>\n",
       "      <th>IPV4_DST_ADDR</th>\n",
       "      <th>L4_DST_PORT</th>\n",
       "      <th>L4_SRC_PORT</th>\n",
       "      <th>LAST_SWITCHED</th>\n",
       "      <th>PROTOCOL</th>\n",
       "      <th>SRC_TOS</th>\n",
       "      <th>TCP_FLAGS</th>\n",
       "      <th>...</th>\n",
       "      <th>SRC_AS</th>\n",
       "      <th>DST_AS</th>\n",
       "      <th>INPUT_SNMP</th>\n",
       "      <th>OUTPUT_SNMP</th>\n",
       "      <th>IPV4_SRC_ADDR</th>\n",
       "      <th>MAC</th>\n",
       "      <th>category</th>\n",
       "      <th>type</th>\n",
       "      <th>date</th>\n",
       "      <th>inter_arrival_time</th>\n",
       "    </tr>\n",
       "  </thead>\n",
       "  <tbody>\n",
       "    <tr>\n",
       "      <th>0</th>\n",
       "      <td>1.579047e+09</td>\n",
       "      <td>240.0</td>\n",
       "      <td>4.0</td>\n",
       "      <td>6999</td>\n",
       "      <td>5222.0</td>\n",
       "      <td>3696.0</td>\n",
       "      <td>1.579043e+09</td>\n",
       "      <td>6.0</td>\n",
       "      <td>0.0</td>\n",
       "      <td>2.0</td>\n",
       "      <td>...</td>\n",
       "      <td>0.0</td>\n",
       "      <td>0.0</td>\n",
       "      <td>6.0</td>\n",
       "      <td>1.0</td>\n",
       "      <td>192.168.1.227</td>\n",
       "      <td>00:16:6C:7F:82:21</td>\n",
       "      <td>IoT</td>\n",
       "      <td>IoT</td>\n",
       "      <td>2020-01-15</td>\n",
       "      <td>1.579048e+09</td>\n",
       "    </tr>\n",
       "    <tr>\n",
       "      <th>1</th>\n",
       "      <td>1.579047e+09</td>\n",
       "      <td>76.0</td>\n",
       "      <td>1.0</td>\n",
       "      <td>1833</td>\n",
       "      <td>123.0</td>\n",
       "      <td>4039.0</td>\n",
       "      <td>1.579043e+09</td>\n",
       "      <td>17.0</td>\n",
       "      <td>0.0</td>\n",
       "      <td>0.0</td>\n",
       "      <td>...</td>\n",
       "      <td>0.0</td>\n",
       "      <td>0.0</td>\n",
       "      <td>6.0</td>\n",
       "      <td>1.0</td>\n",
       "      <td>192.168.1.227</td>\n",
       "      <td>00:16:6C:7F:82:21</td>\n",
       "      <td>IoT</td>\n",
       "      <td>IoT</td>\n",
       "      <td>2020-01-15</td>\n",
       "      <td>2.100000e+01</td>\n",
       "    </tr>\n",
       "    <tr>\n",
       "      <th>2</th>\n",
       "      <td>1.579047e+09</td>\n",
       "      <td>120.0</td>\n",
       "      <td>2.0</td>\n",
       "      <td>7092</td>\n",
       "      <td>5222.0</td>\n",
       "      <td>3661.0</td>\n",
       "      <td>1.579043e+09</td>\n",
       "      <td>6.0</td>\n",
       "      <td>0.0</td>\n",
       "      <td>2.0</td>\n",
       "      <td>...</td>\n",
       "      <td>0.0</td>\n",
       "      <td>0.0</td>\n",
       "      <td>6.0</td>\n",
       "      <td>1.0</td>\n",
       "      <td>192.168.1.227</td>\n",
       "      <td>00:16:6C:7F:82:21</td>\n",
       "      <td>IoT</td>\n",
       "      <td>IoT</td>\n",
       "      <td>2020-01-15</td>\n",
       "      <td>1.000000e+01</td>\n",
       "    </tr>\n",
       "    <tr>\n",
       "      <th>3</th>\n",
       "      <td>1.579047e+09</td>\n",
       "      <td>76.0</td>\n",
       "      <td>1.0</td>\n",
       "      <td>1490</td>\n",
       "      <td>123.0</td>\n",
       "      <td>4040.0</td>\n",
       "      <td>1.579043e+09</td>\n",
       "      <td>17.0</td>\n",
       "      <td>0.0</td>\n",
       "      <td>0.0</td>\n",
       "      <td>...</td>\n",
       "      <td>0.0</td>\n",
       "      <td>0.0</td>\n",
       "      <td>6.0</td>\n",
       "      <td>1.0</td>\n",
       "      <td>192.168.1.227</td>\n",
       "      <td>00:16:6C:7F:82:21</td>\n",
       "      <td>IoT</td>\n",
       "      <td>IoT</td>\n",
       "      <td>2020-01-15</td>\n",
       "      <td>2.000000e+01</td>\n",
       "    </tr>\n",
       "    <tr>\n",
       "      <th>4</th>\n",
       "      <td>1.579047e+09</td>\n",
       "      <td>60.0</td>\n",
       "      <td>1.0</td>\n",
       "      <td>7092</td>\n",
       "      <td>5222.0</td>\n",
       "      <td>3661.0</td>\n",
       "      <td>1.579043e+09</td>\n",
       "      <td>6.0</td>\n",
       "      <td>0.0</td>\n",
       "      <td>2.0</td>\n",
       "      <td>...</td>\n",
       "      <td>0.0</td>\n",
       "      <td>0.0</td>\n",
       "      <td>6.0</td>\n",
       "      <td>1.0</td>\n",
       "      <td>192.168.1.227</td>\n",
       "      <td>00:16:6C:7F:82:21</td>\n",
       "      <td>IoT</td>\n",
       "      <td>IoT</td>\n",
       "      <td>2020-01-15</td>\n",
       "      <td>1.000000e+00</td>\n",
       "    </tr>\n",
       "  </tbody>\n",
       "</table>\n",
       "<p>5 rows × 24 columns</p>\n",
       "</div>"
      ],
      "text/plain": [
       "   FIRST_SWITCHED  IN_BYTES  IN_PKTS  IPV4_DST_ADDR  L4_DST_PORT  L4_SRC_PORT  \\\n",
       "0    1.579047e+09     240.0      4.0           6999       5222.0       3696.0   \n",
       "1    1.579047e+09      76.0      1.0           1833        123.0       4039.0   \n",
       "2    1.579047e+09     120.0      2.0           7092       5222.0       3661.0   \n",
       "3    1.579047e+09      76.0      1.0           1490        123.0       4040.0   \n",
       "4    1.579047e+09      60.0      1.0           7092       5222.0       3661.0   \n",
       "\n",
       "   LAST_SWITCHED  PROTOCOL  SRC_TOS  TCP_FLAGS  ...  SRC_AS  DST_AS  \\\n",
       "0   1.579043e+09       6.0      0.0        2.0  ...     0.0     0.0   \n",
       "1   1.579043e+09      17.0      0.0        0.0  ...     0.0     0.0   \n",
       "2   1.579043e+09       6.0      0.0        2.0  ...     0.0     0.0   \n",
       "3   1.579043e+09      17.0      0.0        0.0  ...     0.0     0.0   \n",
       "4   1.579043e+09       6.0      0.0        2.0  ...     0.0     0.0   \n",
       "\n",
       "   INPUT_SNMP OUTPUT_SNMP  IPV4_SRC_ADDR                MAC  category  type  \\\n",
       "0         6.0         1.0  192.168.1.227  00:16:6C:7F:82:21       IoT   IoT   \n",
       "1         6.0         1.0  192.168.1.227  00:16:6C:7F:82:21       IoT   IoT   \n",
       "2         6.0         1.0  192.168.1.227  00:16:6C:7F:82:21       IoT   IoT   \n",
       "3         6.0         1.0  192.168.1.227  00:16:6C:7F:82:21       IoT   IoT   \n",
       "4         6.0         1.0  192.168.1.227  00:16:6C:7F:82:21       IoT   IoT   \n",
       "\n",
       "         date inter_arrival_time  \n",
       "0  2020-01-15       1.579048e+09  \n",
       "1  2020-01-15       2.100000e+01  \n",
       "2  2020-01-15       1.000000e+01  \n",
       "3  2020-01-15       2.000000e+01  \n",
       "4  2020-01-15       1.000000e+00  \n",
       "\n",
       "[5 rows x 24 columns]"
      ]
     },
     "execution_count": 7,
     "metadata": {},
     "output_type": "execute_result"
    }
   ],
   "source": [
    "data_training.head()"
   ]
  },
  {
   "cell_type": "code",
   "execution_count": 8,
   "metadata": {
    "colab": {
     "base_uri": "https://localhost:8080/",
     "height": 313
    },
    "executionInfo": {
     "elapsed": 42,
     "status": "ok",
     "timestamp": 1637852509022,
     "user": {
      "displayName": "",
      "photoUrl": "",
      "userId": ""
     },
     "user_tz": 240
    },
    "id": "DQOM21IHncF6",
    "outputId": "3fdcdb30-01c8-47ae-ef2d-f25a72ba9433"
   },
   "outputs": [
    {
     "data": {
      "text/html": [
       "<div>\n",
       "<style scoped>\n",
       "    .dataframe tbody tr th:only-of-type {\n",
       "        vertical-align: middle;\n",
       "    }\n",
       "\n",
       "    .dataframe tbody tr th {\n",
       "        vertical-align: top;\n",
       "    }\n",
       "\n",
       "    .dataframe thead th {\n",
       "        text-align: right;\n",
       "    }\n",
       "</style>\n",
       "<table border=\"1\" class=\"dataframe\">\n",
       "  <thead>\n",
       "    <tr style=\"text-align: right;\">\n",
       "      <th></th>\n",
       "      <th>FIRST_SWITCHED</th>\n",
       "      <th>IN_BYTES</th>\n",
       "      <th>IN_PKTS</th>\n",
       "      <th>IPV4_DST_ADDR</th>\n",
       "      <th>L4_DST_PORT</th>\n",
       "      <th>L4_SRC_PORT</th>\n",
       "      <th>LAST_SWITCHED</th>\n",
       "      <th>PROTOCOL</th>\n",
       "      <th>SRC_TOS</th>\n",
       "      <th>TCP_FLAGS</th>\n",
       "      <th>...</th>\n",
       "      <th>SRC_AS</th>\n",
       "      <th>DST_AS</th>\n",
       "      <th>INPUT_SNMP</th>\n",
       "      <th>OUTPUT_SNMP</th>\n",
       "      <th>IPV4_SRC_ADDR</th>\n",
       "      <th>MAC</th>\n",
       "      <th>category</th>\n",
       "      <th>type</th>\n",
       "      <th>date</th>\n",
       "      <th>inter_arrival_time</th>\n",
       "    </tr>\n",
       "  </thead>\n",
       "  <tbody>\n",
       "    <tr>\n",
       "      <th>171845</th>\n",
       "      <td>1.581638e+09</td>\n",
       "      <td>76.0</td>\n",
       "      <td>1.0</td>\n",
       "      <td>893</td>\n",
       "      <td>123.0</td>\n",
       "      <td>4242.0</td>\n",
       "      <td>1.581634e+09</td>\n",
       "      <td>17.0</td>\n",
       "      <td>0.0</td>\n",
       "      <td>0.0</td>\n",
       "      <td>...</td>\n",
       "      <td>0.0</td>\n",
       "      <td>0.0</td>\n",
       "      <td>6.0</td>\n",
       "      <td>1.0</td>\n",
       "      <td>192.168.1.227</td>\n",
       "      <td>00:16:6C:7F:82:21</td>\n",
       "      <td>IoT</td>\n",
       "      <td>IoT</td>\n",
       "      <td>2020-02-14</td>\n",
       "      <td>24.0</td>\n",
       "    </tr>\n",
       "    <tr>\n",
       "      <th>171846</th>\n",
       "      <td>1.581638e+09</td>\n",
       "      <td>120.0</td>\n",
       "      <td>2.0</td>\n",
       "      <td>7092</td>\n",
       "      <td>5222.0</td>\n",
       "      <td>1655.0</td>\n",
       "      <td>1.581634e+09</td>\n",
       "      <td>6.0</td>\n",
       "      <td>0.0</td>\n",
       "      <td>2.0</td>\n",
       "      <td>...</td>\n",
       "      <td>0.0</td>\n",
       "      <td>0.0</td>\n",
       "      <td>6.0</td>\n",
       "      <td>1.0</td>\n",
       "      <td>192.168.1.227</td>\n",
       "      <td>00:16:6C:7F:82:21</td>\n",
       "      <td>IoT</td>\n",
       "      <td>IoT</td>\n",
       "      <td>2020-02-14</td>\n",
       "      <td>6.0</td>\n",
       "    </tr>\n",
       "    <tr>\n",
       "      <th>171847</th>\n",
       "      <td>1.581638e+09</td>\n",
       "      <td>76.0</td>\n",
       "      <td>1.0</td>\n",
       "      <td>1798</td>\n",
       "      <td>123.0</td>\n",
       "      <td>4243.0</td>\n",
       "      <td>1.581634e+09</td>\n",
       "      <td>17.0</td>\n",
       "      <td>0.0</td>\n",
       "      <td>0.0</td>\n",
       "      <td>...</td>\n",
       "      <td>0.0</td>\n",
       "      <td>0.0</td>\n",
       "      <td>6.0</td>\n",
       "      <td>1.0</td>\n",
       "      <td>192.168.1.227</td>\n",
       "      <td>00:16:6C:7F:82:21</td>\n",
       "      <td>IoT</td>\n",
       "      <td>IoT</td>\n",
       "      <td>2020-02-14</td>\n",
       "      <td>24.0</td>\n",
       "    </tr>\n",
       "    <tr>\n",
       "      <th>171848</th>\n",
       "      <td>1.581638e+09</td>\n",
       "      <td>120.0</td>\n",
       "      <td>2.0</td>\n",
       "      <td>6933</td>\n",
       "      <td>5222.0</td>\n",
       "      <td>4816.0</td>\n",
       "      <td>1.581634e+09</td>\n",
       "      <td>6.0</td>\n",
       "      <td>0.0</td>\n",
       "      <td>2.0</td>\n",
       "      <td>...</td>\n",
       "      <td>0.0</td>\n",
       "      <td>0.0</td>\n",
       "      <td>6.0</td>\n",
       "      <td>1.0</td>\n",
       "      <td>192.168.1.227</td>\n",
       "      <td>00:16:6C:7F:82:21</td>\n",
       "      <td>IoT</td>\n",
       "      <td>IoT</td>\n",
       "      <td>2020-02-14</td>\n",
       "      <td>6.0</td>\n",
       "    </tr>\n",
       "    <tr>\n",
       "      <th>171849</th>\n",
       "      <td>1.581638e+09</td>\n",
       "      <td>60.0</td>\n",
       "      <td>1.0</td>\n",
       "      <td>6933</td>\n",
       "      <td>5222.0</td>\n",
       "      <td>4816.0</td>\n",
       "      <td>1.581634e+09</td>\n",
       "      <td>6.0</td>\n",
       "      <td>0.0</td>\n",
       "      <td>2.0</td>\n",
       "      <td>...</td>\n",
       "      <td>0.0</td>\n",
       "      <td>0.0</td>\n",
       "      <td>6.0</td>\n",
       "      <td>1.0</td>\n",
       "      <td>192.168.1.227</td>\n",
       "      <td>00:16:6C:7F:82:21</td>\n",
       "      <td>IoT</td>\n",
       "      <td>IoT</td>\n",
       "      <td>2020-02-14</td>\n",
       "      <td>21.0</td>\n",
       "    </tr>\n",
       "  </tbody>\n",
       "</table>\n",
       "<p>5 rows × 24 columns</p>\n",
       "</div>"
      ],
      "text/plain": [
       "        FIRST_SWITCHED  IN_BYTES  IN_PKTS  IPV4_DST_ADDR  L4_DST_PORT  \\\n",
       "171845    1.581638e+09      76.0      1.0            893        123.0   \n",
       "171846    1.581638e+09     120.0      2.0           7092       5222.0   \n",
       "171847    1.581638e+09      76.0      1.0           1798        123.0   \n",
       "171848    1.581638e+09     120.0      2.0           6933       5222.0   \n",
       "171849    1.581638e+09      60.0      1.0           6933       5222.0   \n",
       "\n",
       "        L4_SRC_PORT  LAST_SWITCHED  PROTOCOL  SRC_TOS  TCP_FLAGS  ...  SRC_AS  \\\n",
       "171845       4242.0   1.581634e+09      17.0      0.0        0.0  ...     0.0   \n",
       "171846       1655.0   1.581634e+09       6.0      0.0        2.0  ...     0.0   \n",
       "171847       4243.0   1.581634e+09      17.0      0.0        0.0  ...     0.0   \n",
       "171848       4816.0   1.581634e+09       6.0      0.0        2.0  ...     0.0   \n",
       "171849       4816.0   1.581634e+09       6.0      0.0        2.0  ...     0.0   \n",
       "\n",
       "        DST_AS  INPUT_SNMP OUTPUT_SNMP  IPV4_SRC_ADDR                MAC  \\\n",
       "171845     0.0         6.0         1.0  192.168.1.227  00:16:6C:7F:82:21   \n",
       "171846     0.0         6.0         1.0  192.168.1.227  00:16:6C:7F:82:21   \n",
       "171847     0.0         6.0         1.0  192.168.1.227  00:16:6C:7F:82:21   \n",
       "171848     0.0         6.0         1.0  192.168.1.227  00:16:6C:7F:82:21   \n",
       "171849     0.0         6.0         1.0  192.168.1.227  00:16:6C:7F:82:21   \n",
       "\n",
       "        category  type        date inter_arrival_time  \n",
       "171845       IoT   IoT  2020-02-14               24.0  \n",
       "171846       IoT   IoT  2020-02-14                6.0  \n",
       "171847       IoT   IoT  2020-02-14               24.0  \n",
       "171848       IoT   IoT  2020-02-14                6.0  \n",
       "171849       IoT   IoT  2020-02-14               21.0  \n",
       "\n",
       "[5 rows x 24 columns]"
      ]
     },
     "execution_count": 8,
     "metadata": {},
     "output_type": "execute_result"
    }
   ],
   "source": [
    "data_predict.head()"
   ]
  },
  {
   "cell_type": "code",
   "execution_count": 9,
   "metadata": {
    "id": "jULcSKENheIP"
   },
   "outputs": [],
   "source": [
    "# Atribuindo features a dataset de treino\n",
    "dataset_ft = pd.DataFrame()\n",
    "dataset_ft['FIRST_SWITCHED'] = data_training['FIRST_SWITCHED'] # Feature 10\n",
    "dataset_ft['IN_BYTES'] = data_training['IN_BYTES'] # Feature 12\n",
    "dataset_ft['IN_PKTS'] = data_training['IN_PKTS'] # Feature 13\n",
    "dataset_ft['IPV4_DST_ADDR'] = data_training['IPV4_DST_ADDR'] # Feature 9\n",
    "dataset_ft['L4_DST_PORT'] = data_training['L4_DST_PORT'] # Feature 0\n",
    "dataset_ft['L4_SRC_PORT'] = data_training['L4_SRC_PORT'] # Feature 1\n",
    "dataset_ft['SRC_TOS'] = data_training['SRC_TOS'] # Feature 2\n",
    "dataset_ft['LAST_SWITCHED'] = data_training['LAST_SWITCHED'] # Feature 3 x\n",
    "dataset_ft['PROTOCOL'] = data_training['PROTOCOL'] # Feature 8 x\n",
    "dataset_ft['TCP_FLAGS'] = data_training['TCP_FLAGS'] # Feature 7 \n"
   ]
  },
  {
   "cell_type": "code",
   "execution_count": 10,
   "metadata": {
    "id": "GjP7ejr3jgwh"
   },
   "outputs": [],
   "source": [
    "# Atribuindo features a dataset de predicao\n",
    "dataset_fp = pd.DataFrame()\n",
    "dataset_fp['FIRST_SWITCHED'] = data_predict['FIRST_SWITCHED'] # Feature 10\n",
    "dataset_fp['IN_BYTES'] = data_predict['IN_BYTES'] # Feature 12\n",
    "dataset_fp['IN_PKTS'] = data_predict['IN_PKTS'] # Feature 13\n",
    "dataset_fp['IPV4_DST_ADDR'] = data_predict['IPV4_DST_ADDR'] # Feature 9\n",
    "dataset_fp['L4_DST_PORT'] = data_predict['L4_DST_PORT'] # Feature 0\n",
    "dataset_fp['L4_SRC_PORT'] = data_predict['L4_SRC_PORT'] # Feature 1\n",
    "dataset_fp['SRC_TOS'] = data_predict['SRC_TOS'] # Feature 2\n",
    "dataset_fp['LAST_SWITCHED'] = data_predict['LAST_SWITCHED'] # Feature 3 x\n",
    "dataset_fp['PROTOCOL'] = data_predict['PROTOCOL'] # Feature 8 x\n",
    "dataset_fp['TCP_FLAGS'] = data_predict['TCP_FLAGS'] # Feature 7 "
   ]
  },
  {
   "cell_type": "code",
   "execution_count": 11,
   "metadata": {
    "id": "s-kFosmAeDg5"
   },
   "outputs": [],
   "source": [
    "# Atribuindo valores do dataset de treino\n",
    "X_train = dataset_ft.iloc[:, :].values #Pegar valores até a coluna de device-model\n",
    "Y_train = data_training.iloc[:, 12].values # coluna device model deve ser utilizada como rótulos"
   ]
  },
  {
   "cell_type": "code",
   "execution_count": 12,
   "metadata": {
    "id": "yVtghvIUge9X"
   },
   "outputs": [],
   "source": [
    "# Atribuindo valores do dataset de predicao\n",
    "X_test = dataset_fp.iloc[:, :].values #Pegar valores até a coluna de device-model\n",
    "Y_test = data_predict.iloc[:, 12].values # coluna device model deve ser utilizada como rótulo"
   ]
  },
  {
   "cell_type": "code",
   "execution_count": 13,
   "metadata": {
    "colab": {
     "base_uri": "https://localhost:8080/",
     "height": 370
    },
    "executionInfo": {
     "elapsed": 3303,
     "status": "ok",
     "timestamp": 1637852512292,
     "user": {
      "displayName": "",
      "photoUrl": "",
      "userId": ""
     },
     "user_tz": 240
    },
    "id": "6y1QexgheFrK",
    "outputId": "2ed775d5-467d-4fc0-f0f5-f033f12de5d2"
   },
   "outputs": [
    {
     "name": "stdout",
     "output_type": "stream",
     "text": [
      "Configurando parâmetros para treino...\n",
      "Treinando...\n",
      "[LightGBM] [Warning] Auto-choosing row-wise multi-threading, the overhead of testing was 0.019947 seconds.\n",
      "You can set `force_row_wise=true` to remove the overhead.\n",
      "And if memory is not enough, you can set `force_col_wise=true`.\n",
      "Salvando modelo...\n"
     ]
    },
    {
     "data": {
      "text/plain": [
       "<lightgbm.basic.Booster at 0x7efce2af2c40>"
      ]
     },
     "execution_count": 13,
     "metadata": {},
     "output_type": "execute_result"
    },
    {
     "data": {
      "image/png": "[encoded data removed]",
      "text/plain": [
       "<Figure size 432x288 with 1 Axes>"
      ]
     },
     "metadata": {
      "needs_background": "light"
     },
     "output_type": "display_data"
    }
   ],
   "source": [
    "# Fase de treinamento\n",
    "d_train = lgb.Dataset(X_train, label=Y_train)\n",
    "print(\"Configurando parâmetros para treino...\")\n",
    "# params = {}\n",
    "# params['num_leaves'] = 32 #definido no artigo\n",
    "params = {\n",
    "    'num_leaves': 32,\n",
    "    'metric': ('l1', 'l2'),\n",
    "    'verbose': 0\n",
    "}\n",
    "evals_result = {}  # to record eval results for plotting\n",
    "#params['min_data'] = 50 # parametros não definidos no artigo, portanto, default\n",
    "#params['max_depth'] = 10\n",
    "print(\"Treinando...\")\n",
    "clf = lgb.train(params, d_train, 30) # max_iterations definido no artigo\n",
    "lgb.plot_importance(clf)\n",
    "print(\"Salvando modelo...\")\n",
    "clf.save_model('model.txt')"
   ]
  },
  {
   "cell_type": "code",
   "execution_count": 20,
   "metadata": {},
   "outputs": [
    {
     "data": {
      "text/html": [
       "<div>\n",
       "<style scoped>\n",
       "    .dataframe tbody tr th:only-of-type {\n",
       "        vertical-align: middle;\n",
       "    }\n",
       "\n",
       "    .dataframe tbody tr th {\n",
       "        vertical-align: top;\n",
       "    }\n",
       "\n",
       "    .dataframe thead th {\n",
       "        text-align: right;\n",
       "    }\n",
       "</style>\n",
       "<table border=\"1\" class=\"dataframe\">\n",
       "  <thead>\n",
       "    <tr style=\"text-align: right;\">\n",
       "      <th></th>\n",
       "      <th>FIRST_SWITCHED</th>\n",
       "      <th>IN_BYTES</th>\n",
       "      <th>IN_PKTS</th>\n",
       "      <th>IPV4_DST_ADDR</th>\n",
       "      <th>L4_DST_PORT</th>\n",
       "      <th>L4_SRC_PORT</th>\n",
       "      <th>SRC_TOS</th>\n",
       "      <th>LAST_SWITCHED</th>\n",
       "      <th>PROTOCOL</th>\n",
       "      <th>TCP_FLAGS</th>\n",
       "    </tr>\n",
       "  </thead>\n",
       "  <tbody>\n",
       "    <tr>\n",
       "      <th>0</th>\n",
       "      <td>1.579047e+09</td>\n",
       "      <td>240.0</td>\n",
       "      <td>4.0</td>\n",
       "      <td>6999</td>\n",
       "      <td>5222.0</td>\n",
       "      <td>3696.0</td>\n",
       "      <td>0.0</td>\n",
       "      <td>1.579043e+09</td>\n",
       "      <td>6.0</td>\n",
       "      <td>2.0</td>\n",
       "    </tr>\n",
       "    <tr>\n",
       "      <th>1</th>\n",
       "      <td>1.579047e+09</td>\n",
       "      <td>76.0</td>\n",
       "      <td>1.0</td>\n",
       "      <td>1833</td>\n",
       "      <td>123.0</td>\n",
       "      <td>4039.0</td>\n",
       "      <td>0.0</td>\n",
       "      <td>1.579043e+09</td>\n",
       "      <td>17.0</td>\n",
       "      <td>0.0</td>\n",
       "    </tr>\n",
       "    <tr>\n",
       "      <th>2</th>\n",
       "      <td>1.579047e+09</td>\n",
       "      <td>120.0</td>\n",
       "      <td>2.0</td>\n",
       "      <td>7092</td>\n",
       "      <td>5222.0</td>\n",
       "      <td>3661.0</td>\n",
       "      <td>0.0</td>\n",
       "      <td>1.579043e+09</td>\n",
       "      <td>6.0</td>\n",
       "      <td>2.0</td>\n",
       "    </tr>\n",
       "    <tr>\n",
       "      <th>3</th>\n",
       "      <td>1.579047e+09</td>\n",
       "      <td>76.0</td>\n",
       "      <td>1.0</td>\n",
       "      <td>1490</td>\n",
       "      <td>123.0</td>\n",
       "      <td>4040.0</td>\n",
       "      <td>0.0</td>\n",
       "      <td>1.579043e+09</td>\n",
       "      <td>17.0</td>\n",
       "      <td>0.0</td>\n",
       "    </tr>\n",
       "    <tr>\n",
       "      <th>4</th>\n",
       "      <td>1.579047e+09</td>\n",
       "      <td>60.0</td>\n",
       "      <td>1.0</td>\n",
       "      <td>7092</td>\n",
       "      <td>5222.0</td>\n",
       "      <td>3661.0</td>\n",
       "      <td>0.0</td>\n",
       "      <td>1.579043e+09</td>\n",
       "      <td>6.0</td>\n",
       "      <td>2.0</td>\n",
       "    </tr>\n",
       "    <tr>\n",
       "      <th>...</th>\n",
       "      <td>...</td>\n",
       "      <td>...</td>\n",
       "      <td>...</td>\n",
       "      <td>...</td>\n",
       "      <td>...</td>\n",
       "      <td>...</td>\n",
       "      <td>...</td>\n",
       "      <td>...</td>\n",
       "      <td>...</td>\n",
       "      <td>...</td>\n",
       "    </tr>\n",
       "    <tr>\n",
       "      <th>1534662</th>\n",
       "      <td>1.581638e+09</td>\n",
       "      <td>86.0</td>\n",
       "      <td>1.0</td>\n",
       "      <td>7034</td>\n",
       "      <td>443.0</td>\n",
       "      <td>48145.0</td>\n",
       "      <td>0.0</td>\n",
       "      <td>1.581634e+09</td>\n",
       "      <td>6.0</td>\n",
       "      <td>24.0</td>\n",
       "    </tr>\n",
       "    <tr>\n",
       "      <th>1534663</th>\n",
       "      <td>1.581638e+09</td>\n",
       "      <td>86.0</td>\n",
       "      <td>1.0</td>\n",
       "      <td>7034</td>\n",
       "      <td>443.0</td>\n",
       "      <td>48145.0</td>\n",
       "      <td>0.0</td>\n",
       "      <td>1.581634e+09</td>\n",
       "      <td>6.0</td>\n",
       "      <td>24.0</td>\n",
       "    </tr>\n",
       "    <tr>\n",
       "      <th>1534664</th>\n",
       "      <td>1.581638e+09</td>\n",
       "      <td>86.0</td>\n",
       "      <td>1.0</td>\n",
       "      <td>7034</td>\n",
       "      <td>443.0</td>\n",
       "      <td>48145.0</td>\n",
       "      <td>0.0</td>\n",
       "      <td>1.581634e+09</td>\n",
       "      <td>6.0</td>\n",
       "      <td>24.0</td>\n",
       "    </tr>\n",
       "    <tr>\n",
       "      <th>1534665</th>\n",
       "      <td>1.581638e+09</td>\n",
       "      <td>86.0</td>\n",
       "      <td>1.0</td>\n",
       "      <td>7034</td>\n",
       "      <td>443.0</td>\n",
       "      <td>48145.0</td>\n",
       "      <td>0.0</td>\n",
       "      <td>1.581634e+09</td>\n",
       "      <td>6.0</td>\n",
       "      <td>24.0</td>\n",
       "    </tr>\n",
       "    <tr>\n",
       "      <th>1534666</th>\n",
       "      <td>1.581638e+09</td>\n",
       "      <td>86.0</td>\n",
       "      <td>1.0</td>\n",
       "      <td>7034</td>\n",
       "      <td>443.0</td>\n",
       "      <td>48145.0</td>\n",
       "      <td>0.0</td>\n",
       "      <td>1.581634e+09</td>\n",
       "      <td>6.0</td>\n",
       "      <td>24.0</td>\n",
       "    </tr>\n",
       "  </tbody>\n",
       "</table>\n",
       "<p>1279159 rows × 10 columns</p>\n",
       "</div>"
      ],
      "text/plain": [
       "         FIRST_SWITCHED  IN_BYTES  IN_PKTS  IPV4_DST_ADDR  L4_DST_PORT  \\\n",
       "0          1.579047e+09     240.0      4.0           6999       5222.0   \n",
       "1          1.579047e+09      76.0      1.0           1833        123.0   \n",
       "2          1.579047e+09     120.0      2.0           7092       5222.0   \n",
       "3          1.579047e+09      76.0      1.0           1490        123.0   \n",
       "4          1.579047e+09      60.0      1.0           7092       5222.0   \n",
       "...                 ...       ...      ...            ...          ...   \n",
       "1534662    1.581638e+09      86.0      1.0           7034        443.0   \n",
       "1534663    1.581638e+09      86.0      1.0           7034        443.0   \n",
       "1534664    1.581638e+09      86.0      1.0           7034        443.0   \n",
       "1534665    1.581638e+09      86.0      1.0           7034        443.0   \n",
       "1534666    1.581638e+09      86.0      1.0           7034        443.0   \n",
       "\n",
       "         L4_SRC_PORT  SRC_TOS  LAST_SWITCHED  PROTOCOL  TCP_FLAGS  \n",
       "0             3696.0      0.0   1.579043e+09       6.0        2.0  \n",
       "1             4039.0      0.0   1.579043e+09      17.0        0.0  \n",
       "2             3661.0      0.0   1.579043e+09       6.0        2.0  \n",
       "3             4040.0      0.0   1.579043e+09      17.0        0.0  \n",
       "4             3661.0      0.0   1.579043e+09       6.0        2.0  \n",
       "...              ...      ...            ...       ...        ...  \n",
       "1534662      48145.0      0.0   1.581634e+09       6.0       24.0  \n",
       "1534663      48145.0      0.0   1.581634e+09       6.0       24.0  \n",
       "1534664      48145.0      0.0   1.581634e+09       6.0       24.0  \n",
       "1534665      48145.0      0.0   1.581634e+09       6.0       24.0  \n",
       "1534666      48145.0      0.0   1.581634e+09       6.0       24.0  \n",
       "\n",
       "[1279159 rows x 10 columns]"
      ]
     },
     "execution_count": 20,
     "metadata": {},
     "output_type": "execute_result"
    }
   ],
   "source": [
    "dataset_ft"
   ]
  },
  {
   "cell_type": "code",
   "execution_count": 14,
   "metadata": {
    "id": "D4LmV0Z7fbZn"
   },
   "outputs": [
    {
     "name": "stdout",
     "output_type": "stream",
     "text": [
      "Preparando Predição...\n",
      "Resultado da predicao: [10.75807968 10.83876683 10.75807968 ...  8.91141894  8.91141894\n",
      "  8.91141894]\n",
      "Rótulos (device_model): [11 11 11 ...  9  9  9]\n",
      "Acerto do modelo: 93.91%\n"
     ]
    }
   ],
   "source": [
    "# Testando treinamento\n",
    "print(\"Preparando Predição...\")\n",
    "clf = lgb.Booster(model_file='model.txt')\n",
    "ypred = clf.predict(X_test)\n",
    "print(f'Resultado da predicao: {ypred}')\n",
    "print(f'Rótulos (device_model): {Y_test}')\n",
    "ypred = ypred.round(decimals=0, out=None)\n",
    "accuracy = metrics.accuracy_score(Y_test, ypred)*100\n",
    "print(f'Acerto do modelo: {round(accuracy,2)}%')"
   ]
  },
  {
   "cell_type": "code",
   "execution_count": 15,
   "metadata": {
    "id": "Gd1-LZgqCGbv"
   },
   "outputs": [
    {
     "name": "stdout",
     "output_type": "stream",
     "text": [
      "Classification Report -----------------\n",
      "              precision    recall  f1-score   support\n",
      "\n",
      "         0.0       0.00      0.00      0.00      2505\n",
      "         1.0       0.55      0.94      0.70      3156\n",
      "         2.0       0.07      0.01      0.02       946\n",
      "         3.0       0.00      0.00      0.00         0\n",
      "         4.0       0.95      1.00      0.98     19520\n",
      "         5.0       0.81      0.79      0.80     12490\n",
      "         6.0       0.26      0.16      0.20      2429\n",
      "         7.0       0.98      0.93      0.96     62867\n",
      "         8.0       0.78      0.99      0.87     14832\n",
      "         9.0       0.99      0.90      0.94     30619\n",
      "        10.0       0.95      1.00      0.97     90709\n",
      "        11.0       1.00      0.97      0.98     46054\n",
      "\n",
      "    accuracy                           0.94    286127\n",
      "   macro avg       0.61      0.64      0.62    286127\n",
      "weighted avg       0.93      0.94      0.93    286127\n",
      "\n"
     ]
    }
   ],
   "source": [
    "# Relatorio de metricas\n",
    "print(\"Classification Report -----------------\")\n",
    "print(metrics.classification_report(Y_test, ypred))\n"
   ]
  },
  {
   "cell_type": "code",
   "execution_count": 16,
   "metadata": {},
   "outputs": [
    {
     "data": {
      "text/plain": [
       "array([11., 11., 11., ...,  9.,  9.,  9.])"
      ]
     },
     "execution_count": 16,
     "metadata": {},
     "output_type": "execute_result"
    }
   ],
   "source": [
    "ypred"
   ]
  },
  {
   "cell_type": "code",
   "execution_count": 17,
   "metadata": {},
   "outputs": [
    {
     "name": "stdout",
     "output_type": "stream",
     "text": [
      "11    46054\n",
      "2       946\n",
      "4     19520\n",
      "8     14832\n",
      "1      3156\n",
      "0      2505\n",
      "10    90709\n",
      "6      2429\n",
      "7     62867\n",
      "5     12490\n",
      "9     30619\n",
      "Name: device_model, dtype: int64\n",
      "----------------------------\n",
      "webcam.Samsung.SNH-1011N            46054\n",
      "laptop.Dell.Latitude_7400             946\n",
      "light_bulb.TP_Link.LB130            19520\n",
      "speaker.Sonos.One                   14832\n",
      "doorbell.Amazon.Ring                 3156\n",
      "access_point.TP_Link.TL-WA901ND      2505\n",
      "webcam.Amcrest.IPM-721W             90709\n",
      "smartphone.Samsung.Galaxy_Note_5     2429\n",
      "socket.Wemo.Insight                 62867\n",
      "smartphone.Samsung.Galaxy_Note_4    12490\n",
      "streamer.Amazon.Fire_TV_Stick       30619\n",
      "Name: device_model, dtype: int64\n"
     ]
    }
   ],
   "source": [
    "print(data_predict.device_model.value_counts(sort=False))\n",
    "print(\"----------------------------\")\n",
    "print(dataset_p.device_model.value_counts(sort=False))"
   ]
  },
  {
   "cell_type": "code",
   "execution_count": 18,
   "metadata": {},
   "outputs": [
    {
     "name": "stdout",
     "output_type": "stream",
     "text": [
      "11    171845\n",
      "2       3918\n",
      "4      83247\n",
      "3      23254\n",
      "8      63648\n",
      "1      14023\n",
      "0      10708\n",
      "10    388783\n",
      "6      12572\n",
      "7     276733\n",
      "5      98760\n",
      "9     131668\n",
      "Name: device_model, dtype: int64\n",
      "----------------------------\n",
      "webcam.Samsung.SNH-1011N            171845\n",
      "laptop.Dell.Latitude_7400             3918\n",
      "light_bulb.TP_Link.LB130             83247\n",
      "laptop.Dell.Latitude_E6430           23254\n",
      "speaker.Sonos.One                    63648\n",
      "doorbell.Amazon.Ring                 14023\n",
      "access_point.TP_Link.TL-WA901ND      10708\n",
      "webcam.Amcrest.IPM-721W             388783\n",
      "smartphone.Samsung.Galaxy_Note_5     12572\n",
      "socket.Wemo.Insight                 276733\n",
      "smartphone.Samsung.Galaxy_Note_4     98760\n",
      "streamer.Amazon.Fire_TV_Stick       131668\n",
      "Name: device_model, dtype: int64\n"
     ]
    }
   ],
   "source": [
    "print(data_training.device_model.value_counts(sort=False))\n",
    "print(\"----------------------------\")\n",
    "print(dataset_t.device_model.value_counts(sort=False))"
   ]
  },
  {
   "cell_type": "code",
   "execution_count": 19,
   "metadata": {
    "id": "-vD8dUhko4Ir"
   },
   "outputs": [
    {
     "name": "stdout",
     "output_type": "stream",
     "text": [
      "Confusion Matrix -----------------\n",
      "[[    0  2335   100    55    12     0     0     0     0     0     0     3]\n",
      " [    0  2952    39    20    68    39     6    14    14     1     3     0]\n",
      " [    0     1    12   136   371   305    83    26    12     0     0     0]\n",
      " [    0     0     0     0     0     0     0     0     0     0     0     0]\n",
      " [    0     0     0     0 19518     0     0     0     0     0     0     2]\n",
      " [    0    32     7    16   366  9899   819   556   760    34     0     1]\n",
      " [    0     0    18    12    96  1763   393    85    57     5     0     0]\n",
      " [    0     0     0     0     0     0     0 58665   457     0  3745     0]\n",
      " [    0     0     0     1     9    21     2    10 14750     0     0    39]\n",
      " [    0     0     0     6     8   166   184   366  2371 27516     0     2]\n",
      " [    0     0     0     0     0     0     2     4    47   358 90298     0]\n",
      " [    0     0     0     0     0     0     0    27   467    14   848 44698]]\n"
     ]
    }
   ],
   "source": [
    "from sklearn.metrics import confusion_matrix\n",
    "confusion_matrix(Y_test, ypred)\n",
    "print(\"Confusion Matrix -----------------\")\n",
    "print(confusion_matrix(Y_test, ypred))"
   ]
  }
 ],
 "metadata": {
  "colab": {
   "collapsed_sections": [],
   "name": "LGBM_FitCorrigidoV3.ipynb",
   "provenance": [
    {
     "file_id": "https://github.com/srg-lc/iddm/blob/main/LGBM_model.ipynb",
     "timestamp": 1637861279806
    }
   ]
  },
  "kernelspec": {
   "display_name": "anacondakernel",
   "language": "python",
   "name": "anacondakernel"
  },
  "language_info": {
   "codemirror_mode": {
    "name": "ipython",
    "version": 3
   },
   "file_extension": ".py",
   "mimetype": "text/x-python",
   "name": "python",
   "nbconvert_exporter": "python",
   "pygments_lexer": "ipython3",
   "version": "3.9.7"
  }
 },
 "nbformat": 4,
 "nbformat_minor": 4
}
