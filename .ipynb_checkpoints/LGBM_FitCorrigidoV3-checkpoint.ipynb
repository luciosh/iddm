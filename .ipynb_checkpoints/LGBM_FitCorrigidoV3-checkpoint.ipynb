{
 "cells": [
  {
   "cell_type": "code",
   "execution_count": null,
   "metadata": {
    "colab": {
     "base_uri": "https://localhost:8080/"
    },
    "executionInfo": {
     "elapsed": 1768,
     "status": "ok",
     "timestamp": 1637852498118,
     "user": {
      "displayName": "",
      "photoUrl": "",
      "userId": ""
     },
     "user_tz": 240
    },
    "id": "Jf9q4Xuj9NSZ",
    "outputId": "75752eba-a804-44e5-83db-4d7b4c04445d"
   },
   "outputs": [],
   "source": [
    "import urllib.request\n",
    "url = \"https://github.com/srg-lc/iddm/blob/main/data.zip?raw=true\"\n",
    "print (\"download start!\")\n",
    "filename, headers = urllib.request.urlretrieve(url, filename=\"data.zip\")\n",
    "print (\"download complete!\")\n",
    "print (\"download file location: \", filename)"
   ]
  },
  {
   "cell_type": "code",
   "execution_count": null,
   "metadata": {
    "id": "70IqLPYTYbTP"
   },
   "outputs": [],
   "source": [
    "import numpy as np\n",
    "import pandas as pd\n",
    "import lightgbm as lgb \n",
    "from sklearn.preprocessing import LabelEncoder\n",
    "from sklearn.preprocessing import OneHotEncoder\n",
    "from sklearn.model_selection import train_test_split\n",
    "from sklearn.compose import ColumnTransformer\n",
    "from sklearn import preprocessing\n",
    "from sklearn import metrics\n",
    "\n",
    "import warnings\n",
    "warnings.filterwarnings('ignore')\n",
    "\n"
   ]
  },
  {
   "cell_type": "code",
   "execution_count": null,
   "metadata": {
    "colab": {
     "base_uri": "https://localhost:8080/"
    },
    "executionInfo": {
     "elapsed": 8048,
     "status": "ok",
     "timestamp": 1637852506158,
     "user": {
      "displayName": "",
      "photoUrl": "",
      "userId": ""
     },
     "user_tz": 240
    },
    "id": "7O1FVkHUYjmY",
    "outputId": "a71be137-980a-48e4-f2fb-449b7b1f3da5"
   },
   "outputs": [],
   "source": [
    "print(\"Iniciando...\")\n",
    "print(\"Carregando dataset...\")\n",
    "dataset = pd.read_csv('data.zip', low_memory=False)\n",
    "\n",
    "\n"
   ]
  },
  {
   "cell_type": "code",
   "execution_count": null,
   "metadata": {
    "colab": {
     "base_uri": "https://localhost:8080/"
    },
    "executionInfo": {
     "elapsed": 605,
     "status": "ok",
     "timestamp": 1637852506750,
     "user": {
      "displayName": "",
      "photoUrl": "",
      "userId": ""
     },
     "user_tz": 240
    },
    "id": "FrKgznuYspVM",
    "outputId": "df808bae-12b8-43e4-e9e1-26fd5a41621b"
   },
   "outputs": [],
   "source": [
    "dataset['device_model'].unique()"
   ]
  },
  {
   "cell_type": "code",
   "execution_count": null,
   "metadata": {
    "colab": {
     "base_uri": "https://localhost:8080/"
    },
    "executionInfo": {
     "elapsed": 332,
     "status": "ok",
     "timestamp": 1637852507079,
     "user": {
      "displayName": "",
      "photoUrl": "",
      "userId": ""
     },
     "user_tz": 240
    },
    "id": "f1i5UM09d_qO",
    "outputId": "0b41fcba-7802-4b5c-e003-e693fb51b738"
   },
   "outputs": [],
   "source": [
    "#Filtrando Treino e predicao\n",
    "data_training = dataset[dataset['partition'] == \"training\"]\n",
    "dataset_t = data_training.copy()\n",
    "data_training['partition'].unique()\n",
    "data_predict = dataset[dataset['partition'] == \"test\"]\n",
    "data_predict['partition'].unique()\n",
    "dataset_p = data_predict.copy()\n"
   ]
  },
  {
   "cell_type": "markdown",
   "metadata": {
    "id": "Xl5Pak1ilc6X"
   },
   "source": [
    "Fit e Transform devem ser aplicados apenas ao dataset de treino, no dataset de previsão, devo aplicar apenas o transform. Logo, fit e transform devem ser aplicados depois da separação de dados de treino e teste. "
   ]
  },
  {
   "cell_type": "code",
   "execution_count": null,
   "metadata": {
    "colab": {
     "base_uri": "https://localhost:8080/"
    },
    "executionInfo": {
     "elapsed": 1350,
     "status": "ok",
     "timestamp": 1637852508427,
     "user": {
      "displayName": "",
      "photoUrl": "",
      "userId": ""
     },
     "user_tz": 240
    },
    "id": "qHRG8PB5vMWS",
    "outputId": "498de922-a15d-41c2-85f6-e1bbd3358732"
   },
   "outputs": [],
   "source": [
    "from sklearn.preprocessing import LabelEncoder\n",
    "number1 = LabelEncoder()\n",
    "number = number1.fit(dataset['IPV4_DST_ADDR'])\n",
    "data_training['IPV4_DST_ADDR'] = number.transform(data_training['IPV4_DST_ADDR'])\n",
    "data_predict['IPV4_DST_ADDR'] = number1.transform(data_predict['IPV4_DST_ADDR'])\n",
    "number = number.fit(dataset['device_model'])\n",
    "data_training['device_model'] = number.transform(data_training['device_model'])\n",
    "data_predict['device_model'] = number1.transform(data_predict['device_model'])\n",
    "number = number.fit(dataset['IP'])\n",
    "data_training['IP'] = number.transform(data_training['IP'])\n",
    "data_predict['IP'] = number1.transform(data_predict['IP'])"
   ]
  },
  {
   "cell_type": "code",
   "execution_count": null,
   "metadata": {
    "colab": {
     "base_uri": "https://localhost:8080/",
     "height": 313
    },
    "executionInfo": {
     "elapsed": 595,
     "status": "ok",
     "timestamp": 1637852509021,
     "user": {
      "displayName": "",
      "photoUrl": "",
      "userId": ""
     },
     "user_tz": 240
    },
    "id": "YY0_JduKncOG",
    "outputId": "2f0444d0-2acf-4d30-d582-ee01fadf9f53"
   },
   "outputs": [],
   "source": [
    "data_training.head()"
   ]
  },
  {
   "cell_type": "code",
   "execution_count": null,
   "metadata": {
    "colab": {
     "base_uri": "https://localhost:8080/",
     "height": 313
    },
    "executionInfo": {
     "elapsed": 42,
     "status": "ok",
     "timestamp": 1637852509022,
     "user": {
      "displayName": "",
      "photoUrl": "",
      "userId": ""
     },
     "user_tz": 240
    },
    "id": "DQOM21IHncF6",
    "outputId": "3fdcdb30-01c8-47ae-ef2d-f25a72ba9433"
   },
   "outputs": [],
   "source": [
    "data_predict.head()"
   ]
  },
  {
   "cell_type": "code",
   "execution_count": null,
   "metadata": {
    "id": "jULcSKENheIP"
   },
   "outputs": [],
   "source": [
    "# Atribuindo features a dataset de treino\n",
    "dataset_ft = pd.DataFrame()\n",
    "dataset_ft['FIRST_SWITCHED'] = data_training['FIRST_SWITCHED'] # Feature 10\n",
    "dataset_ft['IN_BYTES'] = data_training['IN_BYTES'] # Feature 12\n",
    "dataset_ft['IN_PKTS'] = data_training['IN_PKTS'] # Feature 13\n",
    "dataset_ft['IPV4_DST_ADDR'] = data_training['IPV4_DST_ADDR'] # Feature 9\n",
    "dataset_ft['L4_DST_PORT'] = data_training['L4_DST_PORT'] # Feature 0\n",
    "dataset_ft['L4_SRC_PORT'] = data_training['L4_SRC_PORT'] # Feature 1\n",
    "dataset_ft['SRC_TOS'] = data_training['SRC_TOS'] # Feature 2\n",
    "dataset_ft['LAST_SWITCHED'] = data_training['LAST_SWITCHED'] # Feature 3 x\n",
    "dataset_ft['PROTOCOL'] = data_training['PROTOCOL'] # Feature 8 x\n",
    "dataset_ft['TCP_FLAGS'] = data_training['TCP_FLAGS'] # Feature 7 \n"
   ]
  },
  {
   "cell_type": "code",
   "execution_count": null,
   "metadata": {
    "id": "GjP7ejr3jgwh"
   },
   "outputs": [],
   "source": [
    "# Atribuindo features a dataset de predicao\n",
    "dataset_fp = pd.DataFrame()\n",
    "dataset_fp['FIRST_SWITCHED'] = data_predict['FIRST_SWITCHED'] # Feature 10\n",
    "dataset_fp['IN_BYTES'] = data_predict['IN_BYTES'] # Feature 12\n",
    "dataset_fp['IN_PKTS'] = data_predict['IN_PKTS'] # Feature 13\n",
    "dataset_fp['IPV4_DST_ADDR'] = data_predict['IPV4_DST_ADDR'] # Feature 9\n",
    "dataset_fp['L4_DST_PORT'] = data_predict['L4_DST_PORT'] # Feature 0\n",
    "dataset_fp['L4_SRC_PORT'] = data_predict['L4_SRC_PORT'] # Feature 1\n",
    "dataset_fp['SRC_TOS'] = data_predict['SRC_TOS'] # Feature 2\n",
    "dataset_fp['LAST_SWITCHED'] = data_predict['LAST_SWITCHED'] # Feature 3 x\n",
    "dataset_fp['PROTOCOL'] = data_predict['PROTOCOL'] # Feature 8 x\n",
    "dataset_fp['TCP_FLAGS'] = data_predict['TCP_FLAGS'] # Feature 7 "
   ]
  },
  {
   "cell_type": "code",
   "execution_count": null,
   "metadata": {
    "id": "s-kFosmAeDg5"
   },
   "outputs": [],
   "source": [
    "# Atribuindo valores do dataset de treino\n",
    "X_train = dataset_ft.iloc[:, :].values #Pegar valores até a coluna de device-model\n",
    "Y_train = data_training.iloc[:, 12].values # coluna device model deve ser utilizada como rótulos"
   ]
  },
  {
   "cell_type": "code",
   "execution_count": null,
   "metadata": {
    "id": "yVtghvIUge9X"
   },
   "outputs": [],
   "source": [
    "# Atribuindo valores do dataset de predicao\n",
    "X_test = dataset_fp.iloc[:, :].values #Pegar valores até a coluna de device-model\n",
    "Y_test = data_predict.iloc[:, 12].values # coluna device model deve ser utilizada como rótulo"
   ]
  },
  {
   "cell_type": "code",
   "execution_count": null,
   "metadata": {
    "colab": {
     "base_uri": "https://localhost:8080/",
     "height": 370
    },
    "executionInfo": {
     "elapsed": 3303,
     "status": "ok",
     "timestamp": 1637852512292,
     "user": {
      "displayName": "",
      "photoUrl": "",
      "userId": ""
     },
     "user_tz": 240
    },
    "id": "6y1QexgheFrK",
    "outputId": "2ed775d5-467d-4fc0-f0f5-f033f12de5d2"
   },
   "outputs": [],
   "source": [
    "# Fase de treinamento\n",
    "d_train = lgb.Dataset(X_train, label=Y_train)\n",
    "print(\"Configurando parâmetros para treino...\")\n",
    "# params = {}\n",
    "# params['num_leaves'] = 32 #definido no artigo\n",
    "params = {\n",
    "    'num_leaves': 32,\n",
    "    'metric': ('l1', 'l2'),\n",
    "    'verbose': 0\n",
    "}\n",
    "evals_result = {}  # to record eval results for plotting\n",
    "#params['min_data'] = 50 # parametros não definidos no artigo, portanto, default\n",
    "#params['max_depth'] = 10\n",
    "print(\"Treinando...\")\n",
    "clf = lgb.train(params, d_train, 30) # max_iterations definido no artigo\n",
    "lgb.plot_importance(clf)\n",
    "print(\"Salvando modelo...\")\n",
    "clf.save_model('model.txt')"
   ]
  },
  {
   "cell_type": "code",
   "execution_count": null,
   "metadata": {
    "id": "D4LmV0Z7fbZn"
   },
   "outputs": [],
   "source": [
    "# Testando treinamento\n",
    "print(\"Preparando Predição...\")\n",
    "clf = lgb.Booster(model_file='model.txt')\n",
    "ypred = clf.predict(X_test)\n",
    "print(f'Resultado da predicao: {ypred}')\n",
    "print(f'Rótulos (device_model): {Y_test}')\n",
    "ypred = ypred.round(decimals=0, out=None)\n",
    "accuracy = metrics.accuracy_score(Y_test, ypred)*100\n",
    "print(f'Acerto do modelo: {round(accuracy,2)}%')"
   ]
  },
  {
   "cell_type": "code",
   "execution_count": null,
   "metadata": {
    "id": "Gd1-LZgqCGbv"
   },
   "outputs": [],
   "source": [
    "# Relatorio de metricas\n",
    "print(metrics.classification_report(Y_test, ypred))\n"
   ]
  },
  {
   "cell_type": "code",
   "execution_count": null,
   "metadata": {},
   "outputs": [],
   "source": [
    "Y_test"
   ]
  },
  {
   "cell_type": "code",
   "execution_count": null,
   "metadata": {},
   "outputs": [],
   "source": [
    "print(data_predict.device_model.value_counts(sort=False))\n",
    "print(\"----------------------------\")\n",
    "print(dataset_p.device_model.value_counts(sort=False))"
   ]
  },
  {
   "cell_type": "code",
   "execution_count": null,
   "metadata": {},
   "outputs": [],
   "source": [
    "print(data_training.device_model.value_counts(sort=False))\n",
    "print(\"----------------------------\")\n",
    "print(dataset_t.device_model.value_counts(sort=False))"
   ]
  },
  {
   "cell_type": "code",
   "execution_count": null,
   "metadata": {
    "id": "-vD8dUhko4Ir"
   },
   "outputs": [],
   "source": [
    "from sklearn.metrics import confusion_matrix\n",
    "confusion_matrix(Y_test, ypred)\n",
    "print(confusion_matrix(Y_test, ypred))"
   ]
  }
 ],
 "metadata": {
  "colab": {
   "collapsed_sections": [],
   "name": "LGBM_FitCorrigidoV3.ipynb",
   "provenance": [
    {
     "file_id": "https://github.com/srg-lc/iddm/blob/main/LGBM_model.ipynb",
     "timestamp": 1637861279806
    }
   ]
  },
  "kernelspec": {
   "display_name": "Python 3 (ipykernel)",
   "language": "python",
   "name": "python3"
  },
  "language_info": {
   "codemirror_mode": {
    "name": "ipython",
    "version": 3
   },
   "file_extension": ".py",
   "mimetype": "text/x-python",
   "name": "python",
   "nbconvert_exporter": "python",
   "pygments_lexer": "ipython3",
   "version": "3.9.7"
  }
 },
 "nbformat": 4,
 "nbformat_minor": 4
}
